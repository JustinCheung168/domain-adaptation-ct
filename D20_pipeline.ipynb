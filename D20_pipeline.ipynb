{
 "cells": [
  {
   "cell_type": "code",
   "execution_count": 1,
   "id": "a7b93199",
   "metadata": {},
   "outputs": [
    {
     "name": "stdout",
     "output_type": "stream",
     "text": [
      "34561 ['original', 'label', 'Uniform_Noise', 'Rotate_90deg']\n"
     ]
    },
    {
     "data": {
      "text/plain": [
       "<numpy.lib.npyio.NpzFile at 0x26ec4d5f910>"
      ]
     },
     "execution_count": 1,
     "metadata": {},
     "output_type": "execute_result"
    }
   ],
   "source": [
    "import pandas as pd\n",
    "import numpy as np\n",
    "\n",
    "# data = np.load('distorted_data/concatenated_data.npz')\n",
    "data = np.load('datasets/training.npz')\n",
    "print(len(data['original']), list(data.keys()))\n",
    "data\n",
    "\n",
    "# # load the data from every file in the distorted_data directory\n",
    "\n",
    "# import os\n",
    "# data_dir = 'distorted_data'\n",
    "\n",
    "# data = []\n",
    "# for filename in os.listdir(data_dir):\n",
    "#     if filename.endswith('.npz'):\n",
    "#         file_path = os.path.join(data_dir, filename)\n",
    "#         loaded_data = np.load(file_path)\n",
    "#         data.append(loaded_data)\n",
    "\n",
    "# # concatenate the data from all files\n",
    "# all_data = {}\n",
    "# for key in data[0].keys():\n",
    "#     all_data[key] = np.concatenate([d[key] for d in data], axis=0)\n",
    "\n",
    "# # check the shape of the concatenated data\n",
    "# for key, value in all_data.items():\n",
    "#     print(f\"{key}: {value.shape}\")\n",
    "\n",
    "# # save the concatenated data to a new npz file\n",
    "# output_file = 'distorted_data/concatenated_data.npz'\n",
    "# np.savez(output_file, **all_data)"
   ]
  },
  {
   "cell_type": "code",
   "execution_count": 2,
   "id": "fe4780cf",
   "metadata": {},
   "outputs": [],
   "source": [
    "import os\n",
    "\n",
    "def import_data(directory, save_path=None, save=False):\n",
    "\n",
    "    data = []\n",
    "    for filename in os.listdir(directory):\n",
    "        if filename.endswith('.npz'):\n",
    "            file_path = os.path.join(directory, filename)\n",
    "            loaded_data = np.load(file_path)\n",
    "            data.append(loaded_data)\n",
    "\n",
    "    # concatenate the data from all files\n",
    "    all_data = {}\n",
    "    for key in data[0].keys():\n",
    "        all_data[key] = np.concatenate([d[key] for d in data], axis=0)\n",
    "\n",
    "    # check the shape of the concatenated data\n",
    "    for key, value in all_data.items():\n",
    "        print(f\"{key}: {value.shape}\")  \n",
    "\n",
    "    if save:\n",
    "        if save_path is None:\n",
    "            save_path = f'datasets/{directory}_concatenated_data.npz'\n",
    "        np.savez(save_path, **all_data)\n",
    "        print(f\"Data saved to {save_path}\")\n",
    "\n",
    "    return all_data"
   ]
  },
  {
   "cell_type": "code",
   "execution_count": 3,
   "id": "1c19c8e8",
   "metadata": {},
   "outputs": [
    {
     "name": "stdout",
     "output_type": "stream",
     "text": [
      "original: (34561, 224, 224)\n",
      "label: (34561, 1)\n",
      "Uniform_Noise: (34561, 224, 224)\n",
      "Rotate_90deg: (34561, 224, 224)\n",
      "Data saved to datasets/train.npz\n",
      "original: (6491, 224, 224)\n",
      "label: (6491, 1)\n",
      "Uniform_Noise: (6491, 224, 224)\n",
      "Rotate_90deg: (6491, 224, 224)\n",
      "Data saved to datasets/validation.npz\n",
      "original: (17778, 224, 224)\n",
      "label: (17778, 1)\n",
      "Uniform_Noise: (17778, 224, 224)\n",
      "Rotate_90deg: (17778, 224, 224)\n",
      "Data saved to datasets/test.npz\n"
     ]
    }
   ],
   "source": [
    "train_data = import_data('imported_distorted/train', save_path='datasets/train.npz', save=True)\n",
    "val_data =  import_data('imported_distorted/val', save_path='datasets/validation.npz', save=True)\n",
    "test_data = import_data('imported_distorted/test', save_path='datasets/test.npz', save=True)"
   ]
  },
  {
   "cell_type": "code",
   "execution_count": 4,
   "id": "6103238d",
   "metadata": {},
   "outputs": [
    {
     "data": {
      "text/plain": [
       "dict_keys(['original', 'label', 'Uniform_Noise', 'Rotate_90deg'])"
      ]
     },
     "execution_count": 4,
     "metadata": {},
     "output_type": "execute_result"
    }
   ],
   "source": [
    "test_data.keys()"
   ]
  },
  {
   "cell_type": "code",
   "execution_count": 5,
   "id": "bea25448",
   "metadata": {},
   "outputs": [],
   "source": [
    "# keys = list(data.keys())\n",
    "\n",
    "# images = [data[keys[0]], data[keys[2]], data[keys[3]]]\n",
    "# labels = data[keys[1]]"
   ]
  },
  {
   "cell_type": "code",
   "execution_count": 6,
   "id": "9bb92491",
   "metadata": {},
   "outputs": [],
   "source": [
    "# images[0][0]"
   ]
  },
  {
   "cell_type": "code",
   "execution_count": 7,
   "id": "28add875",
   "metadata": {},
   "outputs": [],
   "source": [
    "def normalize_image(image, mean=0.5, std=0.5):\n",
    "    \"\"\"\n",
    "    Normalize an image tensor to have a mean and standard deviation.\n",
    "    \"\"\"\n",
    "    return (image - mean) / std\n",
    "\n",
    "def normalize_images(images, mean=0.5, std=0.5):\n",
    "    \"\"\"\n",
    "    Normalize a list of images.\n",
    "    \"\"\"\n",
    "    return [normalize_image(image, mean, std) for image in images]"
   ]
  },
  {
   "cell_type": "code",
   "execution_count": 8,
   "id": "73144dbe",
   "metadata": {},
   "outputs": [],
   "source": [
    "# normalized_images = []\n",
    "# for image in images:\n",
    "#     normalized_images.append(normalize_images(image))"
   ]
  },
  {
   "cell_type": "code",
   "execution_count": 9,
   "id": "3ac6181e",
   "metadata": {},
   "outputs": [],
   "source": [
    "def plot_sample_images(images, labels, n=3):\n",
    "    \"\"\"\n",
    "    Plot a sample of images with their corresponding labels.\n",
    "    \"\"\"\n",
    "    import matplotlib.pyplot as plt\n",
    "    import numpy as np\n",
    "\n",
    "    plt.figure(figsize=(15, 5))\n",
    "    for i in range(n):\n",
    "        plt.subplot(1, n, i + 1)\n",
    "        plt.imshow(images[i][0], cmap='gray')\n",
    "        plt.title(f'Label: {labels[i]}')\n",
    "        plt.axis('off')\n",
    "    plt.show()\n",
    "\n",
    "# plot_sample_images(images, labels)\n",
    "# plot_sample_images(normalized_images, labels)"
   ]
  },
  {
   "cell_type": "code",
   "execution_count": 10,
   "id": "f2176bc3",
   "metadata": {},
   "outputs": [],
   "source": [
    "# images[0][0]"
   ]
  },
  {
   "cell_type": "code",
   "execution_count": 11,
   "id": "45a63724",
   "metadata": {},
   "outputs": [],
   "source": [
    "# normalized_images[0][0]"
   ]
  },
  {
   "cell_type": "code",
   "execution_count": 12,
   "id": "662d4f72",
   "metadata": {},
   "outputs": [],
   "source": [
    "# type(normalized_images[0][0])\n",
    "# normalized_images[0][0].shape"
   ]
  },
  {
   "cell_type": "code",
   "execution_count": 13,
   "id": "e4670a01",
   "metadata": {},
   "outputs": [],
   "source": [
    "# zero_labels = np.zeros_like(labels)\n",
    "# one_labels = np.ones_like(labels)\n",
    "\n",
    "# print(zero_labels.shape, one_labels.shape)\n",
    "\n",
    "# domain_labels = np.concatenate((zero_labels, one_labels, one_labels), axis=0)\n",
    "# print(domain_labels.shape)\n",
    "\n",
    "# expanded_labels = np.concatenate((labels, labels, labels), axis=0)\n",
    "# print(expanded_labels.shape)"
   ]
  },
  {
   "cell_type": "code",
   "execution_count": 14,
   "id": "be8a8da8",
   "metadata": {},
   "outputs": [],
   "source": [
    "# # concatenate the matrices in the images list\n",
    "# concatenated_images = np.concatenate(normalized_images, axis=0)\n",
    "# concatenated_images.shape"
   ]
  },
  {
   "cell_type": "code",
   "execution_count": 15,
   "id": "2bc65456",
   "metadata": {},
   "outputs": [
    {
     "name": "stdout",
     "output_type": "stream",
     "text": [
      "WARNING:tensorflow:From C:\\Users\\samue\\AppData\\Roaming\\Python\\Python311\\site-packages\\keras\\src\\losses.py:2976: The name tf.losses.sparse_softmax_cross_entropy is deprecated. Please use tf.compat.v1.losses.sparse_softmax_cross_entropy instead.\n",
      "\n"
     ]
    }
   ],
   "source": [
    "from branched_resnet import CustomImageDataset\n",
    "\n",
    "def preprocess_data(data, distortions = [3]):\n",
    "\n",
    "    keys = list(data.keys())\n",
    "\n",
    "    images = [data[keys[0]]]\n",
    "\n",
    "    for distortion in distortions:\n",
    "        images.append(data[keys[distortion]])\n",
    "\n",
    "    labels = data[keys[1]]\n",
    "\n",
    "    normalized_images = []\n",
    "    for image in images:\n",
    "        normalized_images.append(normalize_images(image))\n",
    "\n",
    "    zero_labels = np.zeros_like(labels)\n",
    "    one_labels = np.ones_like(labels)\n",
    "\n",
    "    domain_label_list = [zero_labels]\n",
    "    expanded_label_list = [labels]\n",
    "\n",
    "    for _ in distortions:\n",
    "        domain_label_list.append(one_labels)\n",
    "        expanded_label_list.append(labels)\n",
    "\n",
    "    domain_labels = np.concatenate(domain_label_list, axis=0)\n",
    "    expanded_labels = np.concatenate(expanded_label_list, axis=0)\n",
    "\n",
    "    concatenated_images = np.concatenate(normalized_images, axis=0)\n",
    "\n",
    "    dataset = CustomImageDataset(images=concatenated_images, labels1=expanded_labels, labels2=domain_labels)\n",
    "\n",
    "    return dataset"
   ]
  },
  {
   "cell_type": "code",
   "execution_count": null,
   "id": "7eb8ae09",
   "metadata": {},
   "outputs": [
    {
     "name": "stdout",
     "output_type": "stream",
     "text": [
      "resnet.embedder.embedder.convolution.weight tensor(6.4683e-06) True\n"
     ]
    }
   ],
   "source": [
    "import branched_resnet as br \n",
    "from branched_resnet import CustomImageDataset\n",
    "from transformers import Trainer, TrainingArguments, PreTrainedModel, ResNetConfig\n",
    "\n",
    "config = ResNetConfig()\n",
    "model = br.ResNetForMultiLabel(config=config, num_d1_classes=11, num_d2_classes=2)\n",
    "\n",
    "for name, param in model.named_parameters():\n",
    "    print(name, param.data.mean(), param.requires_grad)\n",
    "    break\n",
    "\n",
    "#train_ds = CustomImageDataset(images=concatenated_images, labels1=expanded_labels, labels2=domain_labels)\n",
    "\n",
    "# vars(model)"
   ]
  },
  {
   "cell_type": "code",
   "execution_count": null,
   "id": "8c4d5720",
   "metadata": {},
   "outputs": [],
   "source": [
    "train_ds = preprocess_data(train_data, distortions=[3])\n",
    "val_ds = preprocess_data(val_data, distortions=[])\n",
    "#test_ds = preprocess_data(test_data, distortions=[2, 3])"
   ]
  },
  {
   "cell_type": "markdown",
   "id": "3612c3ff",
   "metadata": {},
   "source": [
    "# D20\n",
    "\n",
    "Train on undistorted and rotate 90\n",
    "\n",
    "Test on the rest"
   ]
  },
  {
   "cell_type": "code",
   "execution_count": null,
   "id": "6a365111",
   "metadata": {},
   "outputs": [
    {
     "name": "stderr",
     "output_type": "stream",
     "text": [
      "C:\\Users\\samue\\AppData\\Roaming\\Python\\Python311\\site-packages\\transformers\\training_args.py:1594: FutureWarning: `evaluation_strategy` is deprecated and will be removed in version 4.46 of 🤗 Transformers. Use `eval_strategy` instead\n",
      "  warnings.warn(\n",
      "\u001b[34m\u001b[1mwandb\u001b[0m: \u001b[33mWARNING\u001b[0m The `run_name` is currently set to the same value as `TrainingArguments.output_dir`. If this was not intended, please specify a different run name by setting the `TrainingArguments.run_name` parameter.\n",
      "Failed to detect the name of this notebook, you can set it manually with the WANDB_NOTEBOOK_NAME environment variable to enable code saving.\n",
      "\u001b[34m\u001b[1mwandb\u001b[0m: Currently logged in as: \u001b[33msamuelsavine\u001b[0m (\u001b[33msamuelsavine-johns-hopkins-university\u001b[0m). Use \u001b[1m`wandb login --relogin`\u001b[0m to force relogin\n"
     ]
    },
    {
     "data": {
      "text/html": [
       "wandb version 0.21.0 is available!  To upgrade, please run:\n",
       " $ pip install wandb --upgrade"
      ],
      "text/plain": [
       "<IPython.core.display.HTML object>"
      ]
     },
     "metadata": {},
     "output_type": "display_data"
    },
    {
     "data": {
      "text/html": [
       "Tracking run with wandb version 0.16.3"
      ],
      "text/plain": [
       "<IPython.core.display.HTML object>"
      ]
     },
     "metadata": {},
     "output_type": "display_data"
    },
    {
     "data": {
      "text/html": [
       "Run data is saved locally in <code>c:\\Users\\samue\\ML_Deep_Learning\\research\\wandb\\run-20250728_215727-ihhb0uvn</code>"
      ],
      "text/plain": [
       "<IPython.core.display.HTML object>"
      ]
     },
     "metadata": {},
     "output_type": "display_data"
    },
    {
     "data": {
      "text/html": [
       "Syncing run <strong><a href='https://wandb.ai/samuelsavine-johns-hopkins-university/huggingface/runs/ihhb0uvn' target=\"_blank\">./D20_Experiment</a></strong> to <a href='https://wandb.ai/samuelsavine-johns-hopkins-university/huggingface' target=\"_blank\">Weights & Biases</a> (<a href='https://wandb.me/run' target=\"_blank\">docs</a>)<br/>"
      ],
      "text/plain": [
       "<IPython.core.display.HTML object>"
      ]
     },
     "metadata": {},
     "output_type": "display_data"
    },
    {
     "data": {
      "text/html": [
       " View project at <a href='https://wandb.ai/samuelsavine-johns-hopkins-university/huggingface' target=\"_blank\">https://wandb.ai/samuelsavine-johns-hopkins-university/huggingface</a>"
      ],
      "text/plain": [
       "<IPython.core.display.HTML object>"
      ]
     },
     "metadata": {},
     "output_type": "display_data"
    },
    {
     "data": {
      "text/html": [
       " View run at <a href='https://wandb.ai/samuelsavine-johns-hopkins-university/huggingface/runs/ihhb0uvn' target=\"_blank\">https://wandb.ai/samuelsavine-johns-hopkins-university/huggingface/runs/ihhb0uvn</a>"
      ],
      "text/plain": [
       "<IPython.core.display.HTML object>"
      ]
     },
     "metadata": {},
     "output_type": "display_data"
    },
    {
     "name": "stderr",
     "output_type": "stream",
     "text": [
      "Could not estimate the number of tokens of the input, floating-point operations will not be computed\n"
     ]
    },
    {
     "data": {
      "text/html": [
       "\n",
       "    <div>\n",
       "      \n",
       "      <progress value='2871' max='216100' style='width:300px; height:20px; vertical-align: middle;'></progress>\n",
       "      [  2871/216100 05:47 < 7:10:55, 8.25 it/s, Epoch 1.33/100]\n",
       "    </div>\n",
       "    <table border=\"1\" class=\"dataframe\">\n",
       "  <thead>\n",
       " <tr style=\"text-align: left;\">\n",
       "      <th>Epoch</th>\n",
       "      <th>Training Loss</th>\n",
       "      <th>Validation Loss</th>\n",
       "      <th>Accuracy Branch1</th>\n",
       "      <th>Precision Branch1</th>\n",
       "      <th>Recall Branch1</th>\n",
       "      <th>F1 Branch1</th>\n",
       "      <th>Accuracy Branch2</th>\n",
       "      <th>Precision Branch2</th>\n",
       "      <th>Recall Branch2</th>\n",
       "      <th>F1 Branch2</th>\n",
       "    </tr>\n",
       "  </thead>\n",
       "  <tbody>\n",
       "    <tr>\n",
       "      <td>1</td>\n",
       "      <td>0.164000</td>\n",
       "      <td>0.265856</td>\n",
       "      <td>0.907872</td>\n",
       "      <td>0.898465</td>\n",
       "      <td>0.891680</td>\n",
       "      <td>0.891518</td>\n",
       "      <td>0.004468</td>\n",
       "      <td>0.500000</td>\n",
       "      <td>0.002234</td>\n",
       "      <td>0.004448</td>\n",
       "    </tr>\n",
       "  </tbody>\n",
       "</table><p>"
      ],
      "text/plain": [
       "<IPython.core.display.HTML object>"
      ]
     },
     "metadata": {},
     "output_type": "display_data"
    },
    {
     "ename": "KeyboardInterrupt",
     "evalue": "",
     "output_type": "error",
     "traceback": [
      "\u001b[1;31m---------------------------------------------------------------------------\u001b[0m",
      "\u001b[1;31mKeyboardInterrupt\u001b[0m                         Traceback (most recent call last)",
      "Cell \u001b[1;32mIn[18], line 1\u001b[0m\n\u001b[1;32m----> 1\u001b[0m trainer \u001b[38;5;241m=\u001b[39m \u001b[43mbr\u001b[49m\u001b[38;5;241;43m.\u001b[39;49m\u001b[43mtrain_model\u001b[49m\u001b[43m(\u001b[49m\u001b[43mtrain_dataset\u001b[49m\u001b[38;5;241;43m=\u001b[39;49m\u001b[43mtrain_ds\u001b[49m\u001b[43m,\u001b[49m\u001b[43m \u001b[49m\u001b[43meval_dataset\u001b[49m\u001b[38;5;241;43m=\u001b[39;49m\u001b[43m \u001b[49m\u001b[43mval_ds\u001b[49m\u001b[43m,\u001b[49m\u001b[43m \u001b[49m\u001b[43mmodel\u001b[49m\u001b[38;5;241;43m=\u001b[39;49m\u001b[43mmodel\u001b[49m\u001b[43m,\u001b[49m\u001b[43m \u001b[49m\u001b[43moutput_dir\u001b[49m\u001b[38;5;241;43m=\u001b[39;49m\u001b[43m \u001b[49m\u001b[38;5;124;43m\"\u001b[39;49m\u001b[38;5;124;43m./D20_Experiment\u001b[39;49m\u001b[38;5;124;43m\"\u001b[39;49m\u001b[43m,\u001b[49m\u001b[43m \u001b[49m\u001b[43mnum_epochs\u001b[49m\u001b[38;5;241;43m=\u001b[39;49m\u001b[38;5;241;43m100\u001b[39;49m\u001b[43m)\u001b[49m\n\u001b[0;32m      2\u001b[0m trainer\u001b[38;5;241m.\u001b[39msave_model(\u001b[38;5;124m'\u001b[39m\u001b[38;5;124mbranched_resnet_model_D20\u001b[39m\u001b[38;5;124m'\u001b[39m)\n",
      "File \u001b[1;32mc:\\Users\\samue\\ML_Deep_Learning\\research\\branched_resnet.py:137\u001b[0m, in \u001b[0;36mtrain_model\u001b[1;34m(train_dataset, eval_dataset, model, output_dir, num_epochs, batch_size)\u001b[0m\n\u001b[0;32m    118\u001b[0m training_args \u001b[38;5;241m=\u001b[39m TrainingArguments(\n\u001b[0;32m    119\u001b[0m     output_dir\u001b[38;5;241m=\u001b[39moutput_dir,\n\u001b[0;32m    120\u001b[0m     num_train_epochs\u001b[38;5;241m=\u001b[39mnum_epochs,\n\u001b[1;32m   (...)\u001b[0m\n\u001b[0;32m    126\u001b[0m     load_best_model_at_end\u001b[38;5;241m=\u001b[39m\u001b[38;5;28;01mTrue\u001b[39;00m,\n\u001b[0;32m    127\u001b[0m )\n\u001b[0;32m    129\u001b[0m trainer \u001b[38;5;241m=\u001b[39m Trainer(\n\u001b[0;32m    130\u001b[0m     model\u001b[38;5;241m=\u001b[39mmodel,\n\u001b[0;32m    131\u001b[0m     args\u001b[38;5;241m=\u001b[39mtraining_args,\n\u001b[1;32m   (...)\u001b[0m\n\u001b[0;32m    134\u001b[0m     compute_metrics\u001b[38;5;241m=\u001b[39mcompute_metrics\n\u001b[0;32m    135\u001b[0m )\n\u001b[1;32m--> 137\u001b[0m \u001b[43mtrainer\u001b[49m\u001b[38;5;241;43m.\u001b[39;49m\u001b[43mtrain\u001b[49m\u001b[43m(\u001b[49m\u001b[43m)\u001b[49m\n\u001b[0;32m    138\u001b[0m \u001b[38;5;28;01mreturn\u001b[39;00m trainer\n",
      "File \u001b[1;32m~\\AppData\\Roaming\\Python\\Python311\\site-packages\\transformers\\trainer.py:2241\u001b[0m, in \u001b[0;36mTrainer.train\u001b[1;34m(self, resume_from_checkpoint, trial, ignore_keys_for_eval, **kwargs)\u001b[0m\n\u001b[0;32m   2239\u001b[0m         hf_hub_utils\u001b[38;5;241m.\u001b[39menable_progress_bars()\n\u001b[0;32m   2240\u001b[0m \u001b[38;5;28;01melse\u001b[39;00m:\n\u001b[1;32m-> 2241\u001b[0m     \u001b[38;5;28;01mreturn\u001b[39;00m \u001b[43minner_training_loop\u001b[49m\u001b[43m(\u001b[49m\n\u001b[0;32m   2242\u001b[0m \u001b[43m        \u001b[49m\u001b[43margs\u001b[49m\u001b[38;5;241;43m=\u001b[39;49m\u001b[43margs\u001b[49m\u001b[43m,\u001b[49m\n\u001b[0;32m   2243\u001b[0m \u001b[43m        \u001b[49m\u001b[43mresume_from_checkpoint\u001b[49m\u001b[38;5;241;43m=\u001b[39;49m\u001b[43mresume_from_checkpoint\u001b[49m\u001b[43m,\u001b[49m\n\u001b[0;32m   2244\u001b[0m \u001b[43m        \u001b[49m\u001b[43mtrial\u001b[49m\u001b[38;5;241;43m=\u001b[39;49m\u001b[43mtrial\u001b[49m\u001b[43m,\u001b[49m\n\u001b[0;32m   2245\u001b[0m \u001b[43m        \u001b[49m\u001b[43mignore_keys_for_eval\u001b[49m\u001b[38;5;241;43m=\u001b[39;49m\u001b[43mignore_keys_for_eval\u001b[49m\u001b[43m,\u001b[49m\n\u001b[0;32m   2246\u001b[0m \u001b[43m    \u001b[49m\u001b[43m)\u001b[49m\n",
      "File \u001b[1;32m~\\AppData\\Roaming\\Python\\Python311\\site-packages\\transformers\\trainer.py:2553\u001b[0m, in \u001b[0;36mTrainer._inner_training_loop\u001b[1;34m(self, batch_size, args, resume_from_checkpoint, trial, ignore_keys_for_eval)\u001b[0m\n\u001b[0;32m   2547\u001b[0m \u001b[38;5;28;01mwith\u001b[39;00m context():\n\u001b[0;32m   2548\u001b[0m     tr_loss_step \u001b[38;5;241m=\u001b[39m \u001b[38;5;28mself\u001b[39m\u001b[38;5;241m.\u001b[39mtraining_step(model, inputs, num_items_in_batch)\n\u001b[0;32m   2550\u001b[0m \u001b[38;5;28;01mif\u001b[39;00m (\n\u001b[0;32m   2551\u001b[0m     args\u001b[38;5;241m.\u001b[39mlogging_nan_inf_filter\n\u001b[0;32m   2552\u001b[0m     \u001b[38;5;129;01mand\u001b[39;00m \u001b[38;5;129;01mnot\u001b[39;00m is_torch_xla_available()\n\u001b[1;32m-> 2553\u001b[0m     \u001b[38;5;129;01mand\u001b[39;00m (torch\u001b[38;5;241m.\u001b[39misnan(tr_loss_step) \u001b[38;5;129;01mor\u001b[39;00m \u001b[43mtorch\u001b[49m\u001b[38;5;241;43m.\u001b[39;49m\u001b[43misinf\u001b[49m\u001b[43m(\u001b[49m\u001b[43mtr_loss_step\u001b[49m\u001b[43m)\u001b[49m)\n\u001b[0;32m   2554\u001b[0m ):\n\u001b[0;32m   2555\u001b[0m     \u001b[38;5;66;03m# if loss is nan or inf simply add the average of previous logged losses\u001b[39;00m\n\u001b[0;32m   2556\u001b[0m     tr_loss \u001b[38;5;241m=\u001b[39m tr_loss \u001b[38;5;241m+\u001b[39m tr_loss \u001b[38;5;241m/\u001b[39m (\u001b[38;5;241m1\u001b[39m \u001b[38;5;241m+\u001b[39m \u001b[38;5;28mself\u001b[39m\u001b[38;5;241m.\u001b[39mstate\u001b[38;5;241m.\u001b[39mglobal_step \u001b[38;5;241m-\u001b[39m \u001b[38;5;28mself\u001b[39m\u001b[38;5;241m.\u001b[39m_globalstep_last_logged)\n\u001b[0;32m   2557\u001b[0m \u001b[38;5;28;01melse\u001b[39;00m:\n",
      "\u001b[1;31mKeyboardInterrupt\u001b[0m: "
     ]
    }
   ],
   "source": [
    "trainer = br.train_model(train_dataset=train_ds, eval_dataset= val_ds, model=model, output_dir= \"./D20_Experiment\", num_epochs=50, batch_size=200)\n",
    "trainer.save_model('branched_resnet_model_D20')"
   ]
  }
 ],
 "metadata": {
  "kernelspec": {
   "display_name": "base",
   "language": "python",
   "name": "python3"
  },
  "language_info": {
   "codemirror_mode": {
    "name": "ipython",
    "version": 3
   },
   "file_extension": ".py",
   "mimetype": "text/x-python",
   "name": "python",
   "nbconvert_exporter": "python",
   "pygments_lexer": "ipython3",
   "version": "3.11.9"
  }
 },
 "nbformat": 4,
 "nbformat_minor": 5
}
