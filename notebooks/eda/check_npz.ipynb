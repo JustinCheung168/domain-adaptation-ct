{
 "cells": [
  {
   "cell_type": "code",
   "execution_count": 4,
   "id": "5048b6e6-94a4-4b2e-bb1b-c1431856d820",
   "metadata": {},
   "outputs": [
    {
     "name": "stdout",
     "output_type": "stream",
     "text": [
      "The autoreload extension is already loaded. To reload it, use:\n",
      "  %reload_ext autoreload\n",
      "/repo\n"
     ]
    }
   ],
   "source": [
    "%load_ext autoreload\n",
    "%autoreload 2\n",
    "\n",
    "# Act as if we're at the project root    \n",
    "%cd /repo\n",
    "\n",
    "from domain_adaptation_ct.visualize.imshow_gray import ImShowGray\n",
    "from domain_adaptation_ct.dataset.dataset import TwoLabelDataset"
   ]
  },
  {
   "cell_type": "code",
   "execution_count": 7,
   "id": "10a8047a-2784-448f-a069-c674be7942e9",
   "metadata": {},
   "outputs": [],
   "source": [
    "ds = TwoLabelDataset.load(\"/data/D21_preprocessed/pseudo_fold_0.npz\", True)"
   ]
  },
  {
   "cell_type": "code",
   "execution_count": 8,
   "id": "4ec1fd95-582a-4b6d-ab78-2a2eacf85eec",
   "metadata": {},
   "outputs": [
    {
     "data": {
      "text/plain": [
       "<domain_adaptation_ct.dataset.dataset.TwoLabelDataset at 0x7fb0d180aed0>"
      ]
     },
     "execution_count": 8,
     "metadata": {},
     "output_type": "execute_result"
    }
   ],
   "source": [
    "ds"
   ]
  },
  {
   "cell_type": "code",
   "execution_count": null,
   "id": "812741db-7f88-4e20-85af-3be23a7103ba",
   "metadata": {},
   "outputs": [],
   "source": []
  }
 ],
 "metadata": {
  "kernelspec": {
   "display_name": "Python 3 (ipykernel)",
   "language": "python",
   "name": "python3"
  },
  "language_info": {
   "codemirror_mode": {
    "name": "ipython",
    "version": 3
   },
   "file_extension": ".py",
   "mimetype": "text/x-python",
   "name": "python",
   "nbconvert_exporter": "python",
   "pygments_lexer": "ipython3",
   "version": "3.11.10"
  }
 },
 "nbformat": 4,
 "nbformat_minor": 5
}
