{
 "cells": [
  {
   "cell_type": "code",
   "execution_count": null,
   "id": "6c316050",
   "metadata": {},
   "outputs": [
    {
     "name": "stdout",
     "output_type": "stream",
     "text": [
      "Assuming data top-level directory /data\n"
     ]
    }
   ],
   "source": [
    "# Notebook setup; include as first cell in all notebooks.\n",
    "\n",
    "# Specify the top-level directory of the data. In our container, this should be `/data`.\n",
    "data_top_level_dir = \"/data\"\n",
    "\n",
    "# Check that the directory actually exists\n",
    "import os\n",
    "if os.path.isdir(data_top_level_dir):\n",
    "    print(f\"Assuming data top-level directory {data_top_level_dir}\")\n",
    "else:\n",
    "    raise NotADirectoryError(f\"Couldn't find data top-level directory {data_top_level_dir} - please check that the notebook's `data_top_level_dir` exists.\")\n",
    "\n",
    "# Automatically reload imported modules when cells are executed\n",
    "%load_ext autoreload\n",
    "%autoreload 2"
   ]
  },
  {
   "cell_type": "code",
   "execution_count": null,
   "id": "4ca6f094",
   "metadata": {},
   "outputs": [],
   "source": []
  },
  {
   "cell_type": "code",
   "execution_count": null,
   "id": "36650bbb",
   "metadata": {},
   "outputs": [
    {
     "ename": "",
     "evalue": "",
     "output_type": "error",
     "traceback": [
      "\u001b[1;31mThe Kernel crashed while executing code in the current cell or a previous cell. \n",
      "\u001b[1;31mPlease review the code in the cell(s) to identify a possible cause of the failure. \n",
      "\u001b[1;31mClick <a href='https://aka.ms/vscodeJupyterKernelCrash'>here</a> for more info. \n",
      "\u001b[1;31mView Jupyter <a href='command:jupyter.viewOutput'>log</a> for further details."
     ]
    }
   ],
   "source": [
    "# train_data = domain_adaptation_ct.dataset.dataset.TwoLabelDataset.load(\n",
    "#     os.path.join(\n",
    "#         data_top_level_dir,\n",
    "#         'D21_preprocessed_v2/D21_preprocessed_train_v2.npz',\n",
    "#     )\n",
    "# )\n",
    "\n",
    "val_data = domain_adaptation_ct.dataset.dataset.TwoLabelDataset.load(\n",
    "    os.path.join(\n",
    "        data_top_level_dir,\n",
    "        'D21_preprocessed_v2/D21_preprocessed_val_v2.npz',\n",
    "    )\n",
    ")"
   ]
  },
  {
   "cell_type": "code",
   "execution_count": null,
   "id": "7753a465-b844-4064-ac07-c54c41a6a3bf",
   "metadata": {},
   "outputs": [],
   "source": []
  }
 ],
 "metadata": {
  "kernelspec": {
   "display_name": "base",
   "language": "python",
   "name": "python3"
  },
  "language_info": {
   "codemirror_mode": {
    "name": "ipython",
    "version": 3
   },
   "file_extension": ".py",
   "mimetype": "text/x-python",
   "name": "python",
   "nbconvert_exporter": "python",
   "pygments_lexer": "ipython3",
   "version": "3.11.10"
  }
 },
 "nbformat": 4,
 "nbformat_minor": 5
}
