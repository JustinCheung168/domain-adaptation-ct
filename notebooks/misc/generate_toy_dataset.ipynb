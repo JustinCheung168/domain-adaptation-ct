{
 "cells": [
  {
   "cell_type": "markdown",
   "id": "e1f43fa6-fa45-4e77-a134-5058af6b7bae",
   "metadata": {},
   "source": [
    "Goal is to create a domain adaptation problem that is theoretically very easy. Our architecture should at minimum show reasonable loss curves and performance in this case."
   ]
  },
  {
   "cell_type": "code",
   "execution_count": 1,
   "id": "6224ca2c-a692-46b3-bc78-9b5873ec46b6",
   "metadata": {},
   "outputs": [],
   "source": [
    "import random\n",
    "import os\n",
    "\n",
    "from domain_adaptation_ct.dataset.image_dataset import TwoLabelDataset\n",
    "from domain_adaptation_ct.visualize.imshow_gray import ImShowGray\n",
    "\n",
    "import numpy as np\n",
    "import matplotlib.pyplot as plt"
   ]
  },
  {
   "cell_type": "code",
   "execution_count": 2,
   "id": "f4a3c45f-8101-44b1-b1f6-ff756629bbf4",
   "metadata": {},
   "outputs": [],
   "source": [
    "full_val_dataset = TwoLabelDataset.load(\"/data/D21_preprocessed/D21_preprocessed_val_v2.npz\", convert_grayscale_to_rgb=True)"
   ]
  },
  {
   "cell_type": "code",
   "execution_count": 3,
   "id": "2fe2c349-d11b-4810-98d5-ea1c89298b76",
   "metadata": {},
   "outputs": [
    {
     "data": {
      "text/plain": [
       "7.279792785644531"
      ]
     },
     "execution_count": 3,
     "metadata": {},
     "output_type": "execute_result"
    }
   ],
   "source": [
    "# Estimate size of validation dataset\n",
    "full_val_dataset[0]['pixel_values'].nbytes * len(full_val_dataset) / ((2**10)**3) # ~7 GB"
   ]
  },
  {
   "cell_type": "code",
   "execution_count": 4,
   "id": "20e90c34-0d34-44e6-a5f8-57698ba3c534",
   "metadata": {},
   "outputs": [
    {
     "name": "stdout",
     "output_type": "stream",
     "text": [
      "Image shape: (12982, 224, 224)\n",
      "Labels1 shape: (12982, 1)\n",
      "Labels2 shape: (12982, 1)\n"
     ]
    }
   ],
   "source": [
    "# Understand shape of existing validation dataset\n",
    "print(\"Image shape:\", full_val_dataset.images.shape)\n",
    "print(\"Labels1 shape:\", full_val_dataset.labels1.shape)\n",
    "print(\"Labels2 shape:\", full_val_dataset.labels2.shape)"
   ]
  },
  {
   "cell_type": "code",
   "execution_count": null,
   "id": "894c8983-edbf-42af-961e-bfd89ff1bea8",
   "metadata": {},
   "outputs": [
    {
     "name": "stdout",
     "output_type": "stream",
     "text": [
      "4098\n"
     ]
    }
   ],
   "source": [
    "# Our preprocessed data is already shuffled. We use cross validation, so using validation set for investigation here is okay\n",
    "# Treat as a 3-class problem. This dataset is known to only be original images (d=0) and ring images (d=1)\n",
    "# Split into 5 folds.\n",
    "toy_dataset_mask = (full_val_dataset.labels1 >= 8).flatten()\n",
    "\n",
    "toy_num_samples = toy_dataset_mask.sum()\n",
    "print(toy_num_samples)\n",
    "\n",
    "toy_num_folds = 5\n",
    "toy_est_fold_size = toy_num_samples // toy_num_folds\n",
    "\n",
    "toy_fold_datasets = [\n",
    "    TwoLabelDataset(\n",
    "        images = full_val_dataset.images[toy_dataset_mask][(i*toy_est_fold_size):((i+1)*toy_est_fold_size)],\n",
    "        labels1 = full_val_dataset.labels1[toy_dataset_mask][(i*toy_est_fold_size):((i+1)*toy_est_fold_size)],\n",
    "        labels2 = full_val_dataset.labels2[toy_dataset_mask][(i*toy_est_fold_size):((i+1)*toy_est_fold_size)],\n",
    "        convert_grayscale_to_rgb = False, # doesn't matter in this context\n",
    "    ) for i in range(toy_num_folds)\n",
    "]"
   ]
  },
  {
   "cell_type": "code",
   "execution_count": null,
   "id": "2bcf0aac-fb3d-491d-92be-c4224936395a",
   "metadata": {},
   "outputs": [],
   "source": [
    "def plot_class_domain_heatmap(dataset, fold_num):\n",
    "    \"\"\"\n",
    "    Display a heatmap showing counts for each combination of class and domain.\n",
    "\n",
    "    Parameters:\n",
    "    - dataset: An object with attributes `labels1` (classes) and `labels2` (domains)\n",
    "    - class_label_name: Label for the class axis\n",
    "    - domain_label_name: Label for the domain axis\n",
    "    \"\"\"\n",
    "    classes = np.unique(dataset.labels1)\n",
    "    domains = np.unique(dataset.labels2)\n",
    "\n",
    "    # Initialize count matrix\n",
    "    heatmap = np.zeros((len(classes), len(domains)), dtype=int)\n",
    "\n",
    "    # Count occurrences\n",
    "    for c, d in zip(dataset.labels1, dataset.labels2):\n",
    "        c_idx = np.where(classes == c)[0][0]\n",
    "        d_idx = np.where(domains == d)[0][0]\n",
    "        heatmap[c_idx, d_idx] += 1\n",
    "\n",
    "    # Plot heatmap\n",
    "    fig, ax = plt.subplots(figsize=(8, 6))\n",
    "    im = ax.imshow(heatmap, cmap=\"viridis\")\n",
    "\n",
    "    # Add colorbar\n",
    "    cbar = ax.figure.colorbar(im, ax=ax)\n",
    "\n",
    "    class_label_name=\"Class\"\n",
    "    domain_label_name=\"Domain\"\n",
    "    cbar.ax.set_ylabel(\"Count\", rotation=-90, va=\"bottom\")\n",
    "\n",
    "    # Set ticks and labels\n",
    "    ax.set_xticks(np.arange(len(domains)))\n",
    "    ax.set_yticks(np.arange(len(classes)))\n",
    "    ax.set_xticklabels(domains)\n",
    "    ax.set_yticklabels(classes)\n",
    "    ax.set_xlabel(domain_label_name)\n",
    "    ax.set_ylabel(class_label_name)\n",
    "    ax.set_title(f\"Fold {fold_num} Class-Domain Sample Counts\")\n",
    "\n",
    "    # Annotate cells\n",
    "    for i in range(len(classes)):\n",
    "        for j in range(len(domains)):\n",
    "            ax.text(j, i, heatmap[i, j], ha=\"center\", va=\"center\", color=\"white\")\n",
    "\n",
    "    plt.tight_layout()\n",
    "    plt.show()\n",
    "\n",
    "for fold_num in range(len(toy_fold_datasets)):\n",
    "    plot_class_domain_heatmap(toy_fold_datasets[fold_num], fold_num)\n",
    "\n",
    "# seems ballpark good enough to work with. roughly stratified, and should be able to check effects of class imbalance"
   ]
  },
  {
   "cell_type": "code",
   "execution_count": null,
   "id": "fa16cd22-0745-4dc6-8fab-14a687858556",
   "metadata": {},
   "outputs": [],
   "source": [
    "# Quick check that images seem correctly associated with labels\n",
    "for fold_num in range(len(toy_fold_datasets)):\n",
    "    for i in range(3):\n",
    "        sample_num = random.randint(0, toy_est_fold_size-1) # Don't need to seed, want to see random sampling of images\n",
    "        sample = toy_fold_datasets[fold_num][sample_num]\n",
    "        ImShowGray.imshow(sample['pixel_values'].squeeze(), title=f\"Fold {fold_num}, Instance {sample_num}, Class {sample['labels1']}, Domain {sample['labels2']}\")"
   ]
  },
  {
   "cell_type": "code",
   "execution_count": null,
   "id": "eee0ce2f-e276-4e2f-8443-283ed7e1ab9d",
   "metadata": {},
   "outputs": [],
   "source": [
    "os.makedirs(\"/data/toy/\", exist_ok=True)\n",
    "for fold_num in range(len(toy_fold_datasets)):\n",
    "    toy_fold_datasets[fold_num].save(f\"/data/toy/fold{fold_num}.npz\")"
   ]
  },
  {
   "cell_type": "code",
   "execution_count": null,
   "id": "a9b024a2-cedf-4169-a680-71005df7d6b8",
   "metadata": {},
   "outputs": [],
   "source": []
  },
  {
   "cell_type": "code",
   "execution_count": null,
   "id": "98021feb-9546-48fa-8a9f-3d1deadfbe1b",
   "metadata": {},
   "outputs": [],
   "source": []
  }
 ],
 "metadata": {
  "kernelspec": {
   "display_name": "Python 3 (ipykernel)",
   "language": "python",
   "name": "python3"
  },
  "language_info": {
   "codemirror_mode": {
    "name": "ipython",
    "version": 3
   },
   "file_extension": ".py",
   "mimetype": "text/x-python",
   "name": "python",
   "nbconvert_exporter": "python",
   "pygments_lexer": "ipython3",
   "version": "3.11.10"
  }
 },
 "nbformat": 4,
 "nbformat_minor": 5
}
