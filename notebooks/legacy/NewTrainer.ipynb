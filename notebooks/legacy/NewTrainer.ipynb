{
 "cells": [
  {
   "cell_type": "code",
   "execution_count": 1,
   "id": "049f7be4-9dee-4755-ad23-9d5f6d51697d",
   "metadata": {},
   "outputs": [],
   "source": [
    "%load_ext autoreload\n",
    "%autoreload 2"
   ]
  },
  {
   "cell_type": "code",
   "execution_count": 2,
   "id": "0d30d937-f154-4e5d-85cb-171b2e03f92e",
   "metadata": {},
   "outputs": [],
   "source": [
    "from src.learn.dann import ResNetForMultiLabel\n",
    "\n",
    "import numpy as np\n",
    "import pandas as pd\n",
    "import torch"
   ]
  },
  {
   "cell_type": "code",
   "execution_count": 4,
   "id": "0ffa254d-be14-43ee-a4f6-8e9437256c83",
   "metadata": {},
   "outputs": [
    {
     "ename": "TypeError",
     "evalue": "ResNetForMultiLabel.__init__() missing 3 required positional arguments: 'config', 'num_d1_classes', and 'lamb'",
     "output_type": "error",
     "traceback": [
      "\u001b[0;31m---------------------------------------------------------------------------\u001b[0m",
      "\u001b[0;31mTypeError\u001b[0m                                 Traceback (most recent call last)",
      "Cell \u001b[0;32mIn[4], line 1\u001b[0m\n\u001b[0;32m----> 1\u001b[0m a \u001b[38;5;241m=\u001b[39m \u001b[43mResNetForMultiLabel\u001b[49m\u001b[43m(\u001b[49m\u001b[43m)\u001b[49m\n",
      "\u001b[0;31mTypeError\u001b[0m: ResNetForMultiLabel.__init__() missing 3 required positional arguments: 'config', 'num_d1_classes', and 'lamb'"
     ]
    }
   ],
   "source": [
    "a = ResNetForMultiLabel()"
   ]
  },
  {
   "cell_type": "code",
   "execution_count": null,
   "id": "de0f6545-650b-4d9f-a952-fbf2af2633fa",
   "metadata": {},
   "outputs": [],
   "source": [
    "\n",
    "\n",
    "train_data = br.dataset_load('/data/D21_preprocessed_v2/D21_preprocessed_train_v2.npz')\n",
    "val_data = br.dataset_load('/data/D21_preprocessed_v2/D21_preprocessed_val_v2.npz')\n",
    "\n",
    "\n",
    "print(torch.__version__)\n",
    "\n",
    "# Set device and verify CUDA availability\n",
    "print(\"CUDA available:\", torch.cuda.is_available())\n",
    "print(\"CUDA version:\", torch.version.cuda)\n",
    "print(\"Device count:\", torch.cuda.device_count())\n",
    "print(\"Current device:\", torch.cuda.current_device())\n",
    "print(\"Device name:\", torch.cuda.get_device_name(0) if torch.cuda.is_available() else \"None\")\n",
    "\n",
    "device = torch.device('cuda' if torch.cuda.is_available() else 'cpu')\n",
    "print(f'Using device: {device}')"
   ]
  },
  {
   "cell_type": "code",
   "execution_count": 6,
   "id": "2c250de4-9541-40eb-8cfc-95cbdae2db9a",
   "metadata": {},
   "outputs": [],
   "source": [
    "from transformers.models.resnet.modeling_resnet import ResNetForImageClassification\n"
   ]
  },
  {
   "cell_type": "code",
   "execution_count": 31,
   "id": "8f717cc4-5214-4a93-b44c-311f12a9d9bc",
   "metadata": {},
   "outputs": [
    {
     "name": "stdout",
     "output_type": "stream",
     "text": [
      "Raw logits for labels:\n",
      "\t tensor([[-1.1258, -1.1524, -0.2506, -0.4339,  0.8487],\n",
      "        [ 0.6920, -0.3160, -2.1152,  0.3223, -1.2633],\n",
      "        [ 0.3500,  0.3081,  0.1198,  1.2377,  1.1168],\n",
      "        [-0.2473, -1.3527, -1.6959,  0.5667,  0.7935],\n",
      "        [ 0.5988, -1.5551, -0.3414,  1.8530,  0.7502],\n",
      "        [-0.5855, -0.1734,  0.1835,  1.3894,  1.5863],\n",
      "        [ 0.9463, -0.8437, -0.6136,  0.0316,  1.0554],\n",
      "        [ 0.1778, -0.2303, -0.3918,  0.5433, -0.3952],\n",
      "        [ 0.2055, -0.4503,  1.5210,  3.4105, -1.5312],\n",
      "        [-1.2341,  1.8197, -0.5515, -1.3253,  0.1886]], requires_grad=True)\n",
      "Raw logits for domains:\n",
      "\t tensor([ 0.6577,  0.9387,  1.1317, -0.6455, -1.7703,  0.2143, -0.5382,  0.5880,\n",
      "         1.6059,  0.4279], requires_grad=True)\n",
      "True labels:\n",
      "\t tensor([4, 3, 4, 3, 0, 3, 2, 3, 0, 1])\n",
      "True domains:\n",
      "\t tensor([0, 1, 1, 0, 1, 0, 0, 1, 0, 0])\n",
      "Gradient of loss w.r.t. label logits:\n",
      "\t tensor([[ 0.0074,  0.0072,  0.0177,  0.0147, -0.0469],\n",
      "        [ 0.0000,  0.0000,  0.0000, -0.0000,  0.0000],\n",
      "        [ 0.0000,  0.0000,  0.0000,  0.0000, -0.0000],\n",
      "        [ 0.0150,  0.0050,  0.0035, -0.0661,  0.0426],\n",
      "        [-0.0000,  0.0000,  0.0000,  0.0000,  0.0000],\n",
      "        [ 0.0048,  0.0073,  0.0104, -0.0651,  0.0425],\n",
      "        [ 0.0346,  0.0058, -0.0927,  0.0138,  0.0385],\n",
      "        [ 0.0000,  0.0000,  0.0000, -0.0000,  0.0000],\n",
      "        [-0.0967,  0.0017,  0.0124,  0.0820,  0.0006],\n",
      "        [ 0.0034, -0.0275,  0.0068,  0.0031,  0.0142]])\n",
      "Gradient of loss w.r.t. domain logits:\n",
      "\t tensor([ 0.0329, -0.0141, -0.0122,  0.0172, -0.0427,  0.0277,  0.0184, -0.0179,\n",
      "         0.0416,  0.0303])\n",
      "Indices of instances whose label predictions made no contribution to the loss gradient: tensor([1, 2, 4, 7])\n",
      "Indices of instances whose domain predictions made no contribution to the loss gradient: tensor([], dtype=torch.int64)\n",
      "Indices from the target domain: tensor([1, 2, 4, 7])\n",
      "All tests passed.\n"
     ]
    }
   ],
   "source": []
  },
  {
   "cell_type": "code",
   "execution_count": 36,
   "id": "5737bc29-f45d-41b9-bc72-82f020e4cd86",
   "metadata": {},
   "outputs": [],
   "source": [
    "\n",
    "class InstanceWeightedCrossEntropyLoss(torch.nn.Module):\n",
    "    def __init__(self):\n",
    "        super().__init__()\n",
    "        self.base_loss = torch.nn.CrossEntropyLoss(reduction='none')\n",
    "\n",
    "    def forward(self, logits: torch.Tensor, labels: torch.Tensor, instance_weights: torch.Tensor) -> torch.Tensor:\n",
    "        \"\"\"\n",
    "        Args:\n",
    "            logits: Shape [N, K]. Model's predicted logits for label y classification.\n",
    "            labels: Shape [N]. Ground truth class indices.\n",
    "            instance_weights: Shape [N]. Weights for each instance in the minibatch.\n",
    "        Returns:\n",
    "            Shape []. Loss value.\n",
    "        \"\"\"\n",
    "        loss = self.base_loss(logits, labels)\n",
    "        masked_loss = loss * instance_weights\n",
    "        reduced_loss = masked_loss.mean()\n",
    "        return reduced_loss"
   ]
  },
  {
   "cell_type": "code",
   "execution_count": 64,
   "id": "acae7192-7fe5-49e5-aeab-1b37a313d382",
   "metadata": {},
   "outputs": [
    {
     "data": {
      "text/plain": [
       "tensor([[ 0.0000, -0.0000,  0.0000,  0.0000],\n",
       "        [ 0.0024,  0.1321,  0.0066, -0.1410]])"
      ]
     },
     "execution_count": 64,
     "metadata": {},
     "output_type": "execute_result"
    }
   ],
   "source": [
    "# k =  torch.nn.BCEWithLogitsLoss()\n",
    "\n",
    "# a = torch.tensor([1., 2., 3.])\n",
    "# y = torch.tensor([0., 1., 1.])\n",
    "\n",
    "# k(a,y)\n",
    "\n",
    "\n",
    "q = InstanceWeightedCrossEntropyLoss()\n",
    "b = torch.tensor([[3., 1., 4., 1.,],\n",
    "                 [1., 5., 2., 6.,]], requires_grad=True)\n",
    "c = torch.tensor([1, 3])\n",
    "d = torch.tensor([0., 1.])\n",
    "l = q(logits=b, labels=c, instance_weights=d)\n",
    "l.backward()\n",
    "b.grad"
   ]
  },
  {
   "cell_type": "code",
   "execution_count": 68,
   "id": "beccb5fa-61c3-41d4-bdaa-45e41fd0fd9d",
   "metadata": {},
   "outputs": [
    {
     "data": {
      "text/plain": [
       "torch.int64"
      ]
     },
     "execution_count": 68,
     "metadata": {},
     "output_type": "execute_result"
    }
   ],
   "source": [
    "torch.long"
   ]
  },
  {
   "cell_type": "code",
   "execution_count": 71,
   "id": "3ef198de-cf84-41d0-8e09-275944f36db0",
   "metadata": {},
   "outputs": [
    {
     "data": {
      "text/plain": [
       "tensor(0.4963)"
      ]
     },
     "execution_count": 71,
     "metadata": {},
     "output_type": "execute_result"
    }
   ],
   "source": []
  },
  {
   "cell_type": "code",
   "execution_count": null,
   "id": "14322f7e-e391-4001-8ccc-c0b91339e077",
   "metadata": {},
   "outputs": [],
   "source": []
  },
  {
   "cell_type": "code",
   "execution_count": 17,
   "id": "b7cd9837-6bb8-4c92-a1c4-3502ad5c7388",
   "metadata": {},
   "outputs": [
    {
     "data": {
      "text/plain": [
       "torch.Size([1, 3])"
      ]
     },
     "execution_count": 17,
     "metadata": {},
     "output_type": "execute_result"
    }
   ],
   "source": [
    "b.shape"
   ]
  },
  {
   "cell_type": "code",
   "execution_count": null,
   "id": "23aa05b5-6512-444c-823e-ee5830717dca",
   "metadata": {},
   "outputs": [],
   "source": []
  }
 ],
 "metadata": {
  "kernelspec": {
   "display_name": "Python 3 (ipykernel)",
   "language": "python",
   "name": "python3"
  },
  "language_info": {
   "codemirror_mode": {
    "name": "ipython",
    "version": 3
   },
   "file_extension": ".py",
   "mimetype": "text/x-python",
   "name": "python",
   "nbconvert_exporter": "python",
   "pygments_lexer": "ipython3",
   "version": "3.11.10"
  }
 },
 "nbformat": 4,
 "nbformat_minor": 5
}
