{
 "cells": [
  {
   "cell_type": "code",
   "execution_count": null,
   "id": "6c316050",
   "metadata": {},
   "outputs": [
    {
     "name": "stdout",
     "output_type": "stream",
     "text": [
      "The autoreload extension is already loaded. To reload it, use:\n",
      "  %reload_ext autoreload\n",
      "Assuming repo top-level directory /repo\n",
      "Assuming data top-level directory /data\n"
     ]
    }
   ],
   "source": [
    "# Notebook setup; include as first cell in all notebooks.\n",
    "\n",
    "# Automatically reload imported modules when cells are executed\n",
    "# so that when you change source code in `src/`, the changes are picked up in this notebook\n",
    "# without needing to restart the kernel.\n",
    "%load_ext autoreload\n",
    "%autoreload 2\n",
    "\n",
    "import os\n",
    "import sys\n",
    "\n",
    "# Specify the top-level directory of the data.\n",
    "# In our container, this should be `/data`.\n",
    "data_top_level_dir = \"/data\"\n",
    "\n",
    "if os.path.isdir(data_top_level_dir):\n",
    "    print(f\"Assuming data top-level directory {data_top_level_dir}\")\n",
    "else:\n",
    "    raise NotADirectoryError(f\"Couldn't find data top-level directory {data_top_level_dir} - please check that the notebook's `data_top_level_dir` exists.\")"
   ]
  },
  {
   "cell_type": "code",
   "execution_count": null,
   "id": "4ca6f094",
   "metadata": {},
   "outputs": [
    {
     "name": "stdout",
     "output_type": "stream",
     "text": [
      "\n"
     ]
    }
   ],
   "source": []
  },
  {
   "cell_type": "code",
   "execution_count": 6,
   "id": "02d96d25",
   "metadata": {},
   "outputs": [
    {
     "data": {
      "text/plain": [
       "['/repo',\n",
       " '/opt/conda/lib/python311.zip',\n",
       " '/opt/conda/lib/python3.11',\n",
       " '/opt/conda/lib/python3.11/lib-dynload',\n",
       " '',\n",
       " '/opt/conda/lib/python3.11/site-packages']"
      ]
     },
     "execution_count": 6,
     "metadata": {},
     "output_type": "execute_result"
    }
   ],
   "source": [
    "sys.path"
   ]
  },
  {
   "cell_type": "code",
   "execution_count": null,
   "id": "36650bbb",
   "metadata": {},
   "outputs": [],
   "source": []
  },
  {
   "cell_type": "code",
   "execution_count": null,
   "id": "8b690ca8-d707-4a75-9448-66289b9e1a1c",
   "metadata": {},
   "outputs": [
    {
     "ename": "ModuleNotFoundError",
     "evalue": "No module named 'src'",
     "output_type": "error",
     "traceback": [
      "\u001b[0;31m---------------------------------------------------------------------------\u001b[0m",
      "\u001b[0;31mModuleNotFoundError\u001b[0m                       Traceback (most recent call last)",
      "Cell \u001b[0;32mIn[1], line 12\u001b[0m\n\u001b[1;32m      9\u001b[0m \u001b[38;5;28;01mif\u001b[39;00m repo_root \u001b[38;5;129;01mnot\u001b[39;00m \u001b[38;5;129;01min\u001b[39;00m sys\u001b[38;5;241m.\u001b[39mpath:\n\u001b[1;32m     10\u001b[0m     sys\u001b[38;5;241m.\u001b[39mpath\u001b[38;5;241m.\u001b[39minsert(\u001b[38;5;241m0\u001b[39m, repo_root)\n\u001b[0;32m---> 12\u001b[0m \u001b[38;5;28;01mfrom\u001b[39;00m \u001b[38;5;21;01msrc\u001b[39;00m\u001b[38;5;21;01m.\u001b[39;00m\u001b[38;5;21;01mdataset\u001b[39;00m\u001b[38;5;21;01m.\u001b[39;00m\u001b[38;5;21;01mdataset\u001b[39;00m \u001b[38;5;28;01mimport\u001b[39;00m two_label_dataset_load\n\u001b[1;32m     14\u001b[0m train_data \u001b[38;5;241m=\u001b[39m two_label_dataset_load(\u001b[38;5;124m'\u001b[39m\u001b[38;5;124m/data/D20_preprocessed_v2/D20_preprocessed_train_v2.npz\u001b[39m\u001b[38;5;124m'\u001b[39m)\n\u001b[1;32m     15\u001b[0m val_data \u001b[38;5;241m=\u001b[39m two_label_dataset_load(\u001b[38;5;124m'\u001b[39m\u001b[38;5;124m/data/D20_preprocessed_v2/D20_preprocessed_val_v2.npz\u001b[39m\u001b[38;5;124m'\u001b[39m)\n",
      "\u001b[0;31mModuleNotFoundError\u001b[0m: No module named 'src'"
     ]
    }
   ],
   "source": [
    "\n",
    "\n",
    "# Add root of repo to Python path.\n",
    "# repo_root = os.path.abspath(os.path.join(os.path.dirname(__file__), \"..\"))\n",
    "\n",
    "\n",
    "from src.dataset.dataset import two_label_dataset_load\n",
    "\n",
    "train_data = two_label_dataset_load('/data/D20_preprocessed_v2/D20_preprocessed_train_v2.npz')\n",
    "val_data = two_label_dataset_load('/data/D20_preprocessed_v2/D20_preprocessed_val_v2.npz')"
   ]
  },
  {
   "cell_type": "code",
   "execution_count": 3,
   "id": "72ed0120-200d-451f-9337-fb030a2a473f",
   "metadata": {},
   "outputs": [],
   "source": [
    "repo_root = os.getcwd()"
   ]
  },
  {
   "cell_type": "code",
   "execution_count": 2,
   "id": "7ec5c16f-5a0a-4875-be95-b73c4a283835",
   "metadata": {},
   "outputs": [],
   "source": [
    "import os"
   ]
  },
  {
   "cell_type": "code",
   "execution_count": null,
   "id": "ca1323b2-4d74-4ffd-97e4-d6d3fbcb824b",
   "metadata": {},
   "outputs": [
    {
     "data": {
      "text/plain": [
       "'/repo/notebooks'"
      ]
     },
     "execution_count": 2,
     "metadata": {},
     "output_type": "execute_result"
    }
   ],
   "source": []
  },
  {
   "cell_type": "code",
   "execution_count": null,
   "id": "7753a465-b844-4064-ac07-c54c41a6a3bf",
   "metadata": {},
   "outputs": [],
   "source": []
  }
 ],
 "metadata": {
  "kernelspec": {
   "display_name": "base",
   "language": "python",
   "name": "python3"
  },
  "language_info": {
   "codemirror_mode": {
    "name": "ipython",
    "version": 3
   },
   "file_extension": ".py",
   "mimetype": "text/x-python",
   "name": "python",
   "nbconvert_exporter": "python",
   "pygments_lexer": "ipython3",
   "version": "3.11.10"
  }
 },
 "nbformat": 4,
 "nbformat_minor": 5
}
